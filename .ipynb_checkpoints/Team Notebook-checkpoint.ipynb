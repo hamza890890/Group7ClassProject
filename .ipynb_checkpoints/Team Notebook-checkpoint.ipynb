{
 "cells": [
  {
   "cell_type": "markdown",
   "id": "46c5e598-2d5a-4798-aadb-d47bcb0a028b",
   "metadata": {},
   "source": [
    "Hello world."
   ]
  },
  {
   "cell_type": "markdown",
   "id": "2f4fd4b8",
   "metadata": {},
   "source": [
    "| Header 1 | Header 2 | Header 3 |\n",
    "|----------|----------|----------|\n",
    "| Row 1, Col 1 | Row 1, Col 2 | Row 1, Col 3 |\n",
    "| Row 2, Col 1 | Row 2, Col 2 | Row 2, Col 3 |\n",
    "| Row 3, Col 1 | Row 3, Col 2 | Row 3, Col 3 |      EXAMPLE OF HOW TO MAKE A TABLE IN JUPYTER NOTEBOOK"
   ]
  }
 ],
 "metadata": {
  "kernelspec": {
   "display_name": "Python 3 (ipykernel)",
   "language": "python",
   "name": "python3"
  },
  "language_info": {
   "codemirror_mode": {
    "name": "ipython",
    "version": 3
   },
   "file_extension": ".py",
   "mimetype": "text/x-python",
   "name": "python",
   "nbconvert_exporter": "python",
   "pygments_lexer": "ipython3",
   "version": "3.12.4"
  }
 },
 "nbformat": 4,
 "nbformat_minor": 5
}
