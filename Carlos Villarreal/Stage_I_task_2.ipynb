{
 "cells": [
  {
   "cell_type": "markdown",
   "id": "9c307256-7c2c-4fb8-ba12-10df406eadf9",
   "metadata": {},
   "source": [
    "<h1><u>Data Dictionary for Enrichment Data: Employment Dataset</u></h1>"
   ]
  },
  {
   "cell_type": "markdown",
   "id": "220a5b61-c8dc-476d-b7ab-ca60965af195",
   "metadata": {},
   "source": [
    "Data dictionary source: https://www.bls.gov/cew/about-data/downloadable-file-layouts/high-level/home.htm"
   ]
  },
  {
   "cell_type": "markdown",
   "id": "fb1ecd24-e007-4690-905a-a0609c410d13",
   "metadata": {},
   "source": [
    "| Field Number | Name      |      Definition              | Data Type | Required? |\n",
    "|--------------|-----------|------------------------------|-----------|-----------|\n",
    "|       1      | Area Code | 5-character FIPS code         | string    | yes       |\n",
    "|       2      | St        | 2-character State FIPS code   | string    | yes       |\n",
    "|       3      | Cnty      | 3-character County FIPS code  | string    | yes       |\n",
    "|       4      | Own       | 1-character Ownership code    | string    | yes       |\n",
    "|       5      | NAICS     | 4-character Industry code (SuperSector) | string | yes |\n",
    "|       6      | Year      | 4-digit year                 | string    | yes       |\n",
    "|       7      | Qtr       | 1-character quarter (always \"A\" for annual) | string | yes |\n",
    "|       8      | Area Type | Category of the given area (State, County, etc.) | string | yes |\n",
    "|       9      | St Name   | Multi-character State name    | string    | yes       |\n",
    "|      10      | Area      | Area title associated with the area's FIPS code | string | yes |\n",
    "|      11      | Ownership | Ownership title associated with the ownership code | string | yes |\n",
    "|      12      | Industry  | Industry title associated with the industry code | string | yes |\n",
    "|      13      | Annual Average Status Code | Status code, or disclosure code (\"N\" for not disclosed) | string | no        |\n",
    "|      14      | Annual Average Establishment Count | Annual average of quarterly establishment counts for a given year | numeric | yes |\n",
    "|      15      | Annual Average Employment | Annual average of monthly employment levels for a given year | numeric | yes |\n",
    "|      16      | Annual Total Wages | Annual total of the four quarterly total wage levels for a given year | numeric | yes |\n",
    "|      17      | Annual Average Weekly Wage | Average weekly wage based on the 12-month employment levels and total annual wage levels | numeric | yes |\n",
    "|      18      | Annual Average Pay | Average annual pay based on employment and wage levels for a given year | numeric | yes |\n",
    "|      19      | Employment Location Quotient Relative to U.S. | Employment Location Quotient Relative to U.S. | numeric | yes |\n",
    "|      20      | Total Wage Location Quotient Relative to U.S. | Total Wage Location Quotient Relative to U.S. | numeric | yes |\n"
   ]
  },
  {
   "cell_type": "markdown",
   "id": "78b3df29-e838-4978-809c-3790754599e0",
   "metadata": {},
   "source": [
    "To merge the primary covid-19 dataset with my own enrichment dataset, I will merge them by mapping them with the county 5 character code that they have in common. In the primary covid-19 dataset, this variable is called \"countyFIPS\" and in my own dataset, it is called \"Area Code\". Both of these are 5 characters long, and they both correspond to the same U.S. county."
   ]
  },
  {
   "cell_type": "markdown",
   "id": "205536b3-6a39-4b25-8836-31f9a129897e",
   "metadata": {},
   "source": [
    "My enrichment data will allow me to see if workers for a certain industry or industries are more likely to get covid-19 and if they are more likely to die from it or not. I will also be able to tell how much covid affects high annual salary employees compared to low annual salary employees and see if covid is more likely to affect one or the other.\n",
    "\n",
    "Initial Hypothesis questions:\n",
    "* Is there a correlation between certain industries and the amount of covid cases?\n",
    "* Are people who work blue collar jobs more likely to die from covid than people who work white collar jobs?\n",
    "* Are people who work for the private sector have a higher rate of covid cases that people who work for the federal and local government?"
   ]
  },
  {
   "cell_type": "code",
   "execution_count": null,
   "id": "b78c3141-078b-4a86-a097-cab470d18650",
   "metadata": {},
   "outputs": [],
   "source": []
  }
 ],
 "metadata": {
  "kernelspec": {
   "display_name": "Python 3 (ipykernel)",
   "language": "python",
   "name": "python3"
  },
  "language_info": {
   "codemirror_mode": {
    "name": "ipython",
    "version": 3
   },
   "file_extension": ".py",
   "mimetype": "text/x-python",
   "name": "python",
   "nbconvert_exporter": "python",
   "pygments_lexer": "ipython3",
   "version": "3.11.4"
  }
 },
 "nbformat": 4,
 "nbformat_minor": 5
}
