{
 "cells": [
  {
   "cell_type": "markdown",
   "id": "c675c4dc",
   "metadata": {},
   "source": [
    "# Census Demographic - Data Dictionary"
   ]
  },
  {
   "cell_type": "markdown",
   "id": "7e68cf3e",
   "metadata": {},
   "source": [
    "### Cristian Lorenzo 09/05/2024"
   ]
  },
  {
   "cell_type": "markdown",
   "id": "5ad5b447",
   "metadata": {},
   "source": [
    "| Name | Definition | Data type | Possible values | Required |\n",
    "| ---  |    ---     |    ---    |       ---       |    ---   |\n",
    "| Label | Description of demographic | Text | Sex, Age, Race | Yes |\n",
    "| (Label) Estimate | Estimation for Label | Integer/Float | 79.9, 6,303,848 , 38.2 | Yes |  \n",
    "| (Label) Margin of Error | Margin of Error for estimation | Integer | ±49,761, ±9,816, ±33,998 | Yes |\n",
    "| (Label) Percent | Percentage of label | Float | 6.0%, 1.9%,  null | Yes |\n",
    "| (Label) Percent Margin of Error | Margin of Error for percentage | Float | ±0.1, null | Yes"
   ]
  },
  {
   "cell_type": "markdown",
   "id": "73b31233",
   "metadata": {},
   "source": [
    "## How to merge data with primary COVID-19 dataset"
   ]
  },
  {
   "cell_type": "markdown",
   "id": "0a29f1f7",
   "metadata": {},
   "source": [
    "The individual variable I could use to map between the primary COVID-19 and the Census Demorgraphic data would be the Name column as it represents the county and state."
   ]
  },
  {
   "cell_type": "markdown",
   "id": "768499d4",
   "metadata": {},
   "source": [
    "## How enrichment data can help with analysis of COVID-19 spread"
   ]
  },
  {
   "cell_type": "markdown",
   "id": "adaf42e8",
   "metadata": {},
   "source": [
    "Using the Census dataset and the COVID-19 dataset, we can show the the spread of the infection based off the age of the population. \n",
    "\n",
    "Hypothesis: Counties with younger populations have a faster spread of COVID-19"
   ]
  }
 ],
 "metadata": {
  "kernelspec": {
   "display_name": "Python 3 (ipykernel)",
   "language": "python",
   "name": "python3"
  },
  "language_info": {
   "codemirror_mode": {
    "name": "ipython",
    "version": 3
   },
   "file_extension": ".py",
   "mimetype": "text/x-python",
   "name": "python",
   "nbconvert_exporter": "python",
   "pygments_lexer": "ipython3",
   "version": "3.11.4"
  }
 },
 "nbformat": 4,
 "nbformat_minor": 5
}
