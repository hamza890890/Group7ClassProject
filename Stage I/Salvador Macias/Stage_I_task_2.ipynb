{
 "cells": [
  {
   "cell_type": "markdown",
   "metadata": {},
   "source": [
    "\n",
    "|   Name   | Definition | Data Type | Possible values | Required?|\n",
    "|----------|----------|----------|----------|----------|\n",
    "|   state  |   State name  |   string  | Alabama, Texas, Florida | Yes\n",
    "|   county  |   Name of the county  |   string  | Alamance County, Orange County | Yes |\n",
    "|   cadidate  |   The person running for president   |   string   | Joe Biden, Donald Trump  | no |\n",
    "|   party | Party of candidate | String | DEM, REP, LIB | yes |\n",
    "| total_votes | number of votes counted | int | 44552, 46, 195034 | yes |\n",
    "| won  |   whether the party won or not | boolean | TRUE, FALSE | yes |"
   ]
  },
  {
   "cell_type": "markdown",
   "metadata": {},
   "source": [
    "The data i will use to merge between data sets will be the county string variable. Using this data it will be iteresting to see how the spread of covid correlates to what party each county voted for. My initial hypothesis is that blue counties will have the highest cases and deaths because of the larger population size and concentrarion in big cities, however per capita i expect the red counties to have a slighty higher number of cases and deaths."
   ]
  }
 ],
 "metadata": {
  "language_info": {
   "name": "python"
  }
 },
 "nbformat": 4,
 "nbformat_minor": 2
}
