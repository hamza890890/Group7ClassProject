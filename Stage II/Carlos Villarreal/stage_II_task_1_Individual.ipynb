{
 "cells": [
  {
   "cell_type": "markdown",
   "id": "7f51094f-dee1-41d8-aaa2-b48749f502eb",
   "metadata": {},
   "source": [
    "The following cell takes our super covid dataset from stage I and filters out dates not in the range of June 01, 2020 to January 3, 2021. It also filters out US states so that I only have the 6 US states that I want. In my case, I'm analyzing New York, Texas, Illinois, Arizona, Colorado, and North Dakota."
   ]
  },
  {
   "cell_type": "code",
   "execution_count": 35,
   "id": "5fecde5e-a42f-4533-861b-3a6273d676b2",
   "metadata": {},
   "outputs": [
    {
     "name": "stdout",
     "output_type": "stream",
     "text": [
      "     countyFIPS State          County Name_x  population  2020-06-01_cases  \\\n",
      "98            0    AZ  Statewide Unallocated           0                 0   \n",
      "99         4001    AZ         Apache County        71887              1526   \n",
      "100        4003    AZ        Cochise County       125922                76   \n",
      "101        4005    AZ       Coconino County       143476              1155   \n",
      "102        4007    AZ           Gila County        54018                31   \n",
      "\n",
      "     2020-06-02_cases  2020-06-03_cases  2020-06-04_cases  2020-06-05_cases  \\\n",
      "98                  0                 0                 0                 0   \n",
      "99               1569              1586              1637              1656   \n",
      "100                89                94               105               120   \n",
      "101              1173              1186              1221              1248   \n",
      "102                35                37                39                42   \n",
      "\n",
      "     2020-06-06_cases  ...  2020-12-25_deaths  2020-12-26_deaths  \\\n",
      "98                  0  ...                  0                  0   \n",
      "99               1692  ...                218                218   \n",
      "100               122  ...                107                107   \n",
      "101              1267  ...                199                199   \n",
      "102                43  ...                119                119   \n",
      "\n",
      "     2020-12-27_deaths  2020-12-28_deaths  2020-12-29_deaths  \\\n",
      "98                   0                  0                  0   \n",
      "99                 218                225                229   \n",
      "100                107                119                122   \n",
      "101                199                205                207   \n",
      "102                119                126                129   \n",
      "\n",
      "     2020-12-30_deaths  2020-12-31_deaths  2021-01-01_deaths  \\\n",
      "98                   0                  0                  0   \n",
      "99                 231                237                244   \n",
      "100                126                130                136   \n",
      "101                208                210                214   \n",
      "102                132                135                136   \n",
      "\n",
      "     2021-01-02_deaths  2021-01-03_deaths  \n",
      "98                   0                  0  \n",
      "99                 244                244  \n",
      "100                136                136  \n",
      "101                214                214  \n",
      "102                136                136  \n",
      "\n",
      "[5 rows x 438 columns]\n"
     ]
    }
   ],
   "source": [
    "import pandas as pd\n",
    "import numpy as np\n",
    "import matplotlib.pyplot as plt\n",
    "import seaborn as sns\n",
    "\n",
    "super_covid19_data = pd.read_csv('super_covid19_data.csv')\n",
    "\n",
    "#Filter for cases between June 01, 2020 and January 3 2021\n",
    "start_date = '2020-06-01'\n",
    "end_date =  '2021-01-04' \n",
    "\n",
    "\n",
    "# Filter for columns between the start_date and end_date for cases and deaths\n",
    "all_columns = super_covid19_data.columns\n",
    "filtered_columns = all_columns[(all_columns >= start_date) & (all_columns <= end_date)]\n",
    "\n",
    "# Create a filtered DataFrame with only the relevant date columns\n",
    "filtered_super_covid19_data = super_covid19_data[['countyFIPS', 'State', 'County Name_x', 'population'] + list(filtered_columns)]\n",
    "\n",
    "#US state abbreviations: NY, TX, IL, AZ, CO, ND\n",
    "states_to_keep = ['NY', 'TX', 'IL', 'AZ', 'CO', 'ND']\n",
    "\n",
    "# Filter the DataFrame to keep only the rows for these states\n",
    "filtered_super_covid19_data = filtered_super_covid19_data[filtered_super_covid19_data['State'].isin(states_to_keep)]\n",
    "\n",
    "# Display the filtered dataset\n",
    "print(filtered_super_covid19_data.head())\n",
    "\n",
    "# Save the filtered dataset to a CSV file\n",
    "filtered_super_covid19_data.to_csv('filtered_super_dates_June2020_Jan2021_and_6_states.csv', index=False)"
   ]
  },
  {
   "cell_type": "code",
   "execution_count": null,
   "id": "47d7daf2-a176-4daf-8daf-1c13fd6a9c01",
   "metadata": {},
   "outputs": [],
   "source": []
  }
 ],
 "metadata": {
  "kernelspec": {
   "display_name": "Python 3 (ipykernel)",
   "language": "python",
   "name": "python3"
  },
  "language_info": {
   "codemirror_mode": {
    "name": "ipython",
    "version": 3
   },
   "file_extension": ".py",
   "mimetype": "text/x-python",
   "name": "python",
   "nbconvert_exporter": "python",
   "pygments_lexer": "ipython3",
   "version": "3.12.4"
  }
 },
 "nbformat": 4,
 "nbformat_minor": 5
}
