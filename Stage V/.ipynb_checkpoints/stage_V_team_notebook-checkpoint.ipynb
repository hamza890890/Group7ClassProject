{
 "cells": [
  {
   "cell_type": "markdown",
   "metadata": {},
   "source": [
    "To use dash and Plotly, make sure to run these commands in a terminal to install the necessary packages:\n",
    "\n",
    "pip install dash <br>\n",
    "pip install Plotly <br>\n",
    "pip install jupyter-dash <br>\n",
    "\n",
    "Make sure to also install pandas if you need to with this command:\n",
    "\n",
    "pip install pandas"
   ]
  },
  {
   "cell_type": "code",
   "execution_count": 1,
   "metadata": {},
   "outputs": [
    {
     "name": "stdout",
     "output_type": "stream",
     "text": [
      "Plotly version: 5.9.0\n",
      "Dash version: 2.18.2\n",
      "JupyterDash version: 0.4.2\n"
     ]
    }
   ],
   "source": [
    "import plotly\n",
    "import dash\n",
    "import jupyter_dash\n",
    "\n",
    "# This cell should show you what version you have installed when executed\n",
    "print(\"Plotly version:\", plotly.__version__)\n",
    "print(\"Dash version:\", dash.__version__)\n",
    "print(\"JupyterDash version:\", jupyter_dash.__version__)\n"
   ]
  },
  {
   "cell_type": "code",
   "execution_count": 2,
   "metadata": {},
   "outputs": [
    {
     "name": "stdout",
     "output_type": "stream",
     "text": [
      "1.24.3\n",
      "1.5.3\n"
     ]
    }
   ],
   "source": [
    "import numpy as np\n",
    "import pandas as pd\n",
    "\n",
    "print(np.__version__)\n",
    "print(pd.__version__)\n"
   ]
  },
  {
   "cell_type": "markdown",
   "metadata": {},
   "source": [
    "in terminal to run code below use pip install dash Plotly\n",
    "Make sure you have NumPy version 1.26.4 installed so that the code works."
   ]
  },
  {
   "cell_type": "markdown",
   "metadata": {},
   "source": [
    "you might need to do pip install numpy<2    in your terminal"
   ]
  },
  {
   "cell_type": "code",
   "execution_count": 3,
   "metadata": {
    "scrolled": false
   },
   "outputs": [
    {
     "data": {
      "text/html": [
       "\n",
       "        <iframe\n",
       "            width=\"100%\"\n",
       "            height=\"650\"\n",
       "            src=\"http://127.0.0.1:8050/\"\n",
       "            frameborder=\"0\"\n",
       "            allowfullscreen\n",
       "            \n",
       "        ></iframe>\n",
       "        "
      ],
      "text/plain": [
       "<IPython.lib.display.IFrame at 0x115e642d0>"
      ]
     },
     "metadata": {},
     "output_type": "display_data"
    }
   ],
   "source": [
    "from dash import dcc, html, Input, Output\n",
    "import plotly.graph_objs as go\n",
    "from sklearn.linear_model import LinearRegression\n",
    "from sklearn.preprocessing import PolynomialFeatures\n",
    "\n",
    "# Load and prepare your data\n",
    "df = pd.read_csv('super_covid19_data.csv')\n",
    "\n",
    "# Prepare cases and deaths data separately\n",
    "cases_columns = [col for col in df.columns if '_cases' in col]\n",
    "deaths_columns = [col for col in df.columns if '_deaths' in col]\n",
    "\n",
    "# Melt cases data\n",
    "df_cases = df.melt(id_vars=['countyFIPS', 'County Name_x', 'State', 'StateFIPS_cases'],\n",
    "                   value_vars=cases_columns,\n",
    "                   var_name='date',\n",
    "                   value_name='cases')\n",
    "df_cases['date'] = pd.to_datetime(df_cases['date'].str.replace('_cases', ''))\n",
    "\n",
    "# Melt deaths data\n",
    "df_deaths = df.melt(id_vars=['countyFIPS', 'County Name_x', 'State', 'StateFIPS_deaths'],\n",
    "                    value_vars=deaths_columns,\n",
    "                    var_name='date',\n",
    "                    value_name='deaths')\n",
    "df_deaths['date'] = pd.to_datetime(df_deaths['date'].str.replace('_deaths', ''))\n",
    "\n",
    "# Initialize the Dash app\n",
    "app = dash.Dash(__name__)\n",
    "\n",
    "# Layout\n",
    "app.layout = html.Div([\n",
    "    html.H1(\"COVID-19 Data by State\", style={'color': 'blue'}),\n",
    "    \n",
    "    html.Label(\"Select State:\", style={'color': 'blue'}),\n",
    "    dcc.Dropdown(\n",
    "        id='state-dropdown',\n",
    "        options=[{'label': state, 'value': state} for state in df_cases['State'].unique()],\n",
    "        value='NC'\n",
    "    ),\n",
    "    \n",
    "    html.Label(\"Select Data Type:\", style={'color': 'blue'}),\n",
    "    dcc.RadioItems(\n",
    "        id='data-type-radio',\n",
    "        options=[\n",
    "            {'label': 'Cases', 'value': 'cases'},\n",
    "            {'label': 'Deaths', 'value': 'deaths'}\n",
    "        ],\n",
    "        value='cases',\n",
    "        labelStyle={'display': 'inline-block', 'color': 'blue'}\n",
    "    ),\n",
    "    html.Label(\"Scale:\", style={'color': 'blue'}),\n",
    "    dcc.RadioItems(\n",
    "        id='scale-radio',\n",
    "        options=[\n",
    "            {'label': 'Linear', 'value': 'linear'},\n",
    "            {'label': 'Log', 'value': 'log'}\n",
    "        ],\n",
    "        value='linear',\n",
    "        labelStyle={'display': 'inline-block', 'color': 'blue'}\n",
    "    ),\n",
    "    \n",
    "    html.Label(\"Select Date Range:\", style={'color': 'blue'}),\n",
    "    dcc.DatePickerRange(\n",
    "        id='date-picker-range',\n",
    "        min_date_allowed=df_cases['date'].min(),\n",
    "        max_date_allowed=df_cases['date'].max(),\n",
    "        start_date=df_cases['date'].min(),\n",
    "        end_date=df_cases['date'].max()\n",
    "    ),\n",
    "    \n",
    "    \n",
    "    \n",
    "    dcc.Graph(id='covid-data-graph')\n",
    "])\n",
    "\n",
    "# Functions for predictions\n",
    "def generate_linear_prediction(dates, values):\n",
    "    model = LinearRegression()\n",
    "    dates_ordinal = np.array([date.toordinal() for date in dates]).reshape(-1, 1)\n",
    "    model.fit(dates_ordinal, values)\n",
    "    return model.predict(dates_ordinal)\n",
    "\n",
    "def generate_nonlinear_prediction(dates, values, degree=3):\n",
    "    poly = PolynomialFeatures(degree)\n",
    "    dates_ordinal = np.array([date.toordinal() for date in dates]).reshape(-1, 1)\n",
    "    dates_poly = poly.fit_transform(dates_ordinal)\n",
    "    model = LinearRegression()\n",
    "    model.fit(dates_poly, values)\n",
    "    return model.predict(dates_poly)\n",
    "\n",
    "# Callback to update the graph based on inputs\n",
    "@app.callback(\n",
    "    Output('covid-data-graph', 'figure'),\n",
    "    [Input('state-dropdown', 'value'),\n",
    "     Input('data-type-radio', 'value'),\n",
    "     Input('date-picker-range', 'start_date'),\n",
    "     Input('date-picker-range', 'end_date'),\n",
    "     Input('scale-radio', 'value')]\n",
    ")\n",
    "def update_graph(selected_state, data_type, start_date, end_date, scale_type):\n",
    "    # Select the appropriate dataset\n",
    "    if data_type == 'cases':\n",
    "        filtered_df = df_cases[(df_cases['State'] == selected_state) &\n",
    "                               (df_cases['date'] >= start_date) &\n",
    "                               (df_cases['date'] <= end_date)]\n",
    "        daily_data = filtered_df.groupby('date')['cases'].sum().reset_index()\n",
    "        y_label = 'Number of Cases'\n",
    "        trend_line = generate_linear_prediction(daily_data['date'], daily_data['cases']) if scale_type == 'linear' else generate_nonlinear_prediction(daily_data['date'], daily_data['cases'])\n",
    "    else:\n",
    "        filtered_df = df_deaths[(df_deaths['State'] == selected_state) &\n",
    "                                (df_deaths['date'] >= start_date) &\n",
    "                                (df_deaths['date'] <= end_date)]\n",
    "        daily_data = filtered_df.groupby('date')['deaths'].sum().reset_index()\n",
    "        y_label = 'Number of Deaths'\n",
    "        trend_line = generate_linear_prediction(daily_data['date'], daily_data['deaths']) if scale_type == 'linear' else generate_nonlinear_prediction(daily_data['date'], daily_data['deaths'])\n",
    "    \n",
    "    # Create the figure\n",
    "    fig = go.Figure()\n",
    "    fig.add_trace(go.Scatter(\n",
    "        x=daily_data['date'], y=daily_data[data_type],\n",
    "        mode='lines', name=f'Daily {data_type.capitalize()}'\n",
    "    ))\n",
    "    fig.add_trace(go.Scatter(\n",
    "        x=daily_data['date'], y=trend_line,\n",
    "        mode='lines', name='Trend Line (Prediction)',\n",
    "        line=dict(dash='dash')\n",
    "    ))\n",
    "    \n",
    "    # Apply scale\n",
    "    fig.update_layout(\n",
    "        yaxis_type=scale_type,\n",
    "        title=f\"COVID-19 {data_type.capitalize()} in {selected_state}\",\n",
    "        xaxis_title=\"Date\",\n",
    "        yaxis_title=y_label\n",
    "    )\n",
    "    \n",
    "    return fig\n",
    "\n",
    "# Run the app\n",
    "if __name__ == '__main__':\n",
    "    app.run_server(debug=True)\n"
   ]
  }
 ],
 "metadata": {
  "kernelspec": {
   "display_name": "Python 3 (ipykernel)",
   "language": "python",
   "name": "python3"
  },
  "language_info": {
   "codemirror_mode": {
    "name": "ipython",
    "version": 3
   },
   "file_extension": ".py",
   "mimetype": "text/x-python",
   "name": "python",
   "nbconvert_exporter": "python",
   "pygments_lexer": "ipython3",
   "version": "3.11.4"
  }
 },
 "nbformat": 4,
 "nbformat_minor": 4
}
