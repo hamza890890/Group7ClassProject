{
 "cells": [
  {
   "cell_type": "markdown",
   "metadata": {},
   "source": [
    "To use dash and Plotly, make sure to run these commands in a terminal to install the necessary packages:\n",
    "\n",
    "pip install dash <br>\n",
    "pip install Plotly <br>\n",
    "pip install jupyter-dash <br>\n",
    "\n",
    "Make sure to also install pandas if you need to with this command:\n",
    "\n",
    "pip install pandas"
   ]
  },
  {
   "cell_type": "code",
   "execution_count": 13,
   "metadata": {},
   "outputs": [
    {
     "name": "stdout",
     "output_type": "stream",
     "text": [
      "Plotly version: 5.24.1\n",
      "Dash version: 2.18.2\n",
      "JupyterDash version: 0.4.2\n"
     ]
    }
   ],
   "source": [
    "import plotly\n",
    "import dash\n",
    "import jupyter_dash\n",
    "\n",
    "# This cell should show you what version you have installed when executed\n",
    "print(\"Plotly version:\", plotly.__version__)\n",
    "print(\"Dash version:\", dash.__version__)\n",
    "print(\"JupyterDash version:\", jupyter_dash.__version__)\n"
   ]
  },
  {
   "cell_type": "code",
   "execution_count": 17,
   "metadata": {},
   "outputs": [
    {
     "name": "stdout",
     "output_type": "stream",
     "text": [
      "2.1.3\n",
      "2.2.3\n"
     ]
    }
   ],
   "source": [
    "import numpy as np\n",
    "import pandas as pd\n",
    "\n",
    "print(np.__version__)\n",
    "print(pd.__version__)\n"
   ]
  }
 ],
 "metadata": {
  "kernelspec": {
   "display_name": "base",
   "language": "python",
   "name": "python3"
  },
  "language_info": {
   "codemirror_mode": {
    "name": "ipython",
    "version": 3
   },
   "file_extension": ".py",
   "mimetype": "text/x-python",
   "name": "python",
   "nbconvert_exporter": "python",
   "pygments_lexer": "ipython3",
   "version": "3.12.4"
  }
 },
 "nbformat": 4,
 "nbformat_minor": 2
}
