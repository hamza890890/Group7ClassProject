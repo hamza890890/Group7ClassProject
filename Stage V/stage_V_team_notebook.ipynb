{
 "cells": [
  {
   "cell_type": "markdown",
   "metadata": {},
   "source": [
    "To use dash and Plotly, make sure to run these commands in a terminal to install the necessary packages:\n",
    "\n",
    "pip install dash <br>\n",
    "pip install Plotly <br>\n",
    "pip install jupyter-dash <br>\n",
    "\n",
    "Make sure to also install pandas if you need to with this command:\n",
    "\n",
    "pip install pandas"
   ]
  },
  {
   "cell_type": "code",
   "execution_count": 13,
   "metadata": {},
   "outputs": [
    {
     "name": "stdout",
     "output_type": "stream",
     "text": [
      "Plotly version: 5.24.1\n",
      "Dash version: 2.18.2\n",
      "JupyterDash version: 0.4.2\n"
     ]
    }
   ],
   "source": [
    "import plotly\n",
    "import dash\n",
    "import jupyter_dash\n",
    "\n",
    "# This cell should show you what version you have installed when executed\n",
    "print(\"Plotly version:\", plotly.__version__)\n",
    "print(\"Dash version:\", dash.__version__)\n",
    "print(\"JupyterDash version:\", jupyter_dash.__version__)\n"
   ]
  },
  {
   "cell_type": "code",
   "execution_count": 17,
   "metadata": {},
   "outputs": [
    {
     "name": "stdout",
     "output_type": "stream",
     "text": [
      "2.1.3\n",
      "2.2.3\n"
     ]
    }
   ],
   "source": [
    "import numpy as np\n",
    "import pandas as pd\n",
    "\n",
    "print(np.__version__)\n",
    "print(pd.__version__)\n"
   ]
  },
  {
   "cell_type": "code",
   "execution_count": null,
   "metadata": {},
   "outputs": [
    {
     "data": {
      "text/html": [
       "\n",
       "        <iframe\n",
       "            width=\"100%\"\n",
       "            height=\"650\"\n",
       "            src=\"http://127.0.0.1:8050/\"\n",
       "            frameborder=\"0\"\n",
       "            allowfullscreen\n",
       "            \n",
       "        ></iframe>\n",
       "        "
      ],
      "text/plain": [
       "<IPython.lib.display.IFrame at 0x1afea235a00>"
      ]
     },
     "metadata": {},
     "output_type": "display_data"
    }
   ],
   "source": [
    "import dash\n",
    "from dash import dcc, html, Input, Output\n",
    "import plotly.graph_objs as go\n",
    "import pandas as pd\n",
    "import numpy as np\n",
    "\n",
    "# Load your data\n",
    "df = pd.read_csv('super_covid19_data.csv')  # Place holder assuming super covid data\n",
    "\n",
    "# Reshape the data: melt to have dates and cases in single columns\n",
    "date_columns = [col for col in df.columns if '_cases' in col]\n",
    "df_melted = df.melt(id_vars=['countyFIPS', 'County Name_x', 'State', 'StateFIPS_cases'],\n",
    "                    value_vars=date_columns,\n",
    "                    var_name='date',\n",
    "                    value_name='cases')\n",
    "\n",
    "# Convert date column to datetime and clean up date format\n",
    "df_melted['date'] = pd.to_datetime(df_melted['date'].str.replace('_cases', ''))\n",
    "\n",
    "# Filter to a specific state (e.g., NC) or set up the dashboard to allow state selection\n",
    "# Initializing the Dash app\n",
    "app = dash.Dash(__name__)\n",
    "\n",
    "# Layout\n",
    "app.layout = html.Div([\n",
    "    html.H1(\"COVID-19 Cases by County\"),\n",
    "    \n",
    "    # Dropdown for selecting a state\n",
    "    html.Label(\"Select State:\"),\n",
    "    dcc.Dropdown(\n",
    "        id='state-dropdown',\n",
    "        options=[{'label': state, 'value': state} for state in df_melted['State'].unique()],\n",
    "        value='NC'  # Default to North Carolina, can be any state in your data\n",
    "    ),\n",
    "    \n",
    "    # Date range picker\n",
    "    html.Label(\"Select Date Range:\"),\n",
    "    dcc.DatePickerRange(\n",
    "        id='date-picker-range',\n",
    "        min_date_allowed=df_melted['date'].min(),\n",
    "        max_date_allowed=df_melted['date'].max(),\n",
    "        start_date=df_melted['date'].min(),\n",
    "        end_date=df_melted['date'].max()\n",
    "    ),\n",
    "    \n",
    "    # Radio items for scale type\n",
    "    html.Label(\"Scale:\"),\n",
    "    dcc.RadioItems(\n",
    "        id='scale-radio',\n",
    "        options=[{'label': 'Linear', 'value': 'linear'},\n",
    "                 {'label': 'Log', 'value': 'log'}],\n",
    "        value='linear',\n",
    "        labelStyle={'display': 'inline-block'}\n",
    "    ),\n",
    "    \n",
    "    # Main graph\n",
    "    dcc.Graph(id='covid-cases-graph')\n",
    "])\n",
    "\n",
    "# Callback to update the graph based on inputs\n",
    "@app.callback(\n",
    "    Output('covid-cases-graph', 'figure'),\n",
    "    [Input('state-dropdown', 'value'),\n",
    "     Input('date-picker-range', 'start_date'),\n",
    "     Input('date-picker-range', 'end_date'),\n",
    "     Input('scale-radio', 'value')]\n",
    ")\n",
    "def update_graph(selected_state, start_date, end_date, scale_type):\n",
    "    # Filter data based on state and date range\n",
    "    filtered_df = df_melted[(df_melted['State'] == selected_state) &\n",
    "                            (df_melted['date'] >= start_date) &\n",
    "                            (df_melted['date'] <= end_date)]\n",
    "    \n",
    "    # Aggregate cases by date\n",
    "    daily_cases = filtered_df.groupby('date')['cases'].sum().reset_index()\n",
    "\n",
    "    # Create the figure\n",
    "    fig = go.Figure()\n",
    "    fig.add_trace(go.Scatter(\n",
    "        x=daily_cases['date'], y=daily_cases['cases'],\n",
    "        mode='lines', name='Daily Cases'\n",
    "    ))\n",
    "    \n",
    "    # Apply scale (linear or log)\n",
    "    fig.update_layout(\n",
    "        yaxis_type=scale_type,\n",
    "        title=f\"COVID-19 Cases in {selected_state}\",\n",
    "        xaxis_title=\"Date\",\n",
    "        yaxis_title=\"Number of Cases\"\n",
    "    )\n",
    "    \n",
    "    return fig\n",
    "\n",
    "# Run the app\n",
    "if __name__ == '__main__':\n",
    "    app.run_server(debug=True)\n"
   ]
  }
 ],
 "metadata": {
  "kernelspec": {
   "display_name": "base",
   "language": "python",
   "name": "python3"
  },
  "language_info": {
   "codemirror_mode": {
    "name": "ipython",
    "version": 3
   },
   "file_extension": ".py",
   "mimetype": "text/x-python",
   "name": "python",
   "nbconvert_exporter": "python",
   "pygments_lexer": "ipython3",
   "version": "3.12.4"
  }
 },
 "nbformat": 4,
 "nbformat_minor": 2
}
