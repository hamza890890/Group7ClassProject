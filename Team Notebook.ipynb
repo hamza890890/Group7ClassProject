{
 "cells": [
  {
   "cell_type": "markdown",
   "id": "46c5e598-2d5a-4798-aadb-d47bcb0a028b",
   "metadata": {},
   "source": [
    "Hello world."
   ]
  },
  {
   "cell_type": "markdown",
   "id": "2f4fd4b8",
   "metadata": {},
   "source": [
    "covid_deaths_usafacts\n",
    "\n",
    "| Name | Definition | Data Type | Possible values | Required? |\n",
    "|----------|----------|----------|-----------|-----------|\n",
    "| countyFIPS |Unique County identifier | int |     1001,1003,1005      |      yes      |\n",
    "| County Name| Name of the county | string | Hale County, Davidson County| yes |\n",
    "| State  |   State Abreviation |  string  | NC, AL, TN | yes |\n",
    "| StateFIPS |  Unique State identifier | int | 01, 22, 56 |  yes | \n",
    "| Date  |   number of deaths per date | int | 0, 1, 100 | yes |\n",
    "\n"
   ]
  },
  {
   "cell_type": "markdown",
   "id": "a5fddae2",
   "metadata": {},
   "source": [
    "covid_county_population_usafacts\n",
    "\n",
    "| Name | Definition | Data Type | Possible values | Required? |\n",
    "|----------|----------|----------|-----------|-----------|\n",
    "| countyFIPS |Unique County identifier | int |     1001,1003,1005      |      yes      |\n",
    "| County Name| Name of the county | string | Hale County, Davidson County| yes |\n",
    "| State  |   State Abreviation |  string  | NC, AL, TN | yes |\n",
    "| Population |  number of people living in the county | int | 55869, 11567, 102268 |  yes | \n",
    "\n",
    "\n"
   ]
  }
 ],
 "metadata": {
  "kernelspec": {
   "display_name": "Python 3 (ipykernel)",
   "language": "python",
   "name": "python3"
  },
  "language_info": {
   "codemirror_mode": {
    "name": "ipython",
    "version": 3
   },
   "file_extension": ".py",
   "mimetype": "text/x-python",
   "name": "python",
   "nbconvert_exporter": "python",
   "pygments_lexer": "ipython3",
   "version": "3.12.4"
  }
 },
 "nbformat": 4,
 "nbformat_minor": 5
}
